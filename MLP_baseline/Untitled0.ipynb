{
 "metadata": {
  "name": "",
  "signature": "sha256:3767816bd902e4784145dae196c1c6b46fce07abde2cb004f09582013a48c558"
 },
 "nbformat": 3,
 "nbformat_minor": 0,
 "worksheets": [
  {
   "cells": [
    {
     "cell_type": "code",
     "collapsed": false,
     "input": [
      "import shared_defs_BP4D\n",
      "import data_preparation\n",
      "\n",
      "(all_aus, train_recs, devel_recs, BP4D_dir, hog_data_dir) = shared_defs_BP4D.shared_defs();\n",
      "\n",
      "pca_loc = \"../pca_generation/generic_face_rigid\";"
     ],
     "language": "python",
     "metadata": {},
     "outputs": [],
     "prompt_number": 1
    },
    {
     "cell_type": "code",
     "collapsed": false,
     "input": [
      "import data_preparation\n",
      "au = 1\n",
      "[train_samples, train_labels, valid_samples, valid_labels, raw_valid, PC, means, scaling] = data_preparation.Prepare_HOG_AU_data_generic_BP4D_dynamic(train_recs, devel_recs, [au], BP4D_dir, hog_data_dir, pca_loc);"
     ],
     "language": "python",
     "metadata": {},
     "outputs": [],
     "prompt_number": 2
    },
    {
     "cell_type": "code",
     "collapsed": false,
     "input": [
      "print train_samples.shape, train_labels.shape, valid_samples.shape, valid_labels.shape\n"
     ],
     "language": "python",
     "metadata": {},
     "outputs": [
      {
       "output_type": "stream",
       "stream": "stdout",
       "text": [
        "(36916L, 1379L) (36916L,) (71261L, 1379L) (71261L, 1L)\n"
       ]
      }
     ],
     "prompt_number": 3
    },
    {
     "cell_type": "code",
     "collapsed": false,
     "input": [],
     "language": "python",
     "metadata": {},
     "outputs": []
    }
   ],
   "metadata": {}
  }
 ]
}