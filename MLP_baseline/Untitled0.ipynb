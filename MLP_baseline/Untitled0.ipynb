{
 "worksheets": [
  {
   "cells": [
    {
     "cell_type": "code",
     "metadata": {},
     "outputs": [],
     "input": [
      "import numpy as np\n",
      "import scores\n",
      "\n",
      "a = np.transpose(np.array([0,0,0,0,0,1,1,1,1]))\n",
      "b = np.transpose(np.array([0,0,0,0,0,1,1,1,1]))\n",
      "\n",
      "f1, prec, recall = scores.FERA_class_score(a, b)"
     ],
     "language": "python"
    },
    {
     "cell_type": "code",
     "metadata": {},
     "outputs": [],
     "input": [
      ""
     ],
     "language": "python",
     "prompt_number": 2
    },
    {
     "cell_type": "code",
     "metadata": {},
     "outputs": [
      {
       "output_type": "stream",
       "stream": "stdout",
       "text": [
        "(36916L, 1379L) (36916L,) (71261L, 1379L) (71261L, 1L)\n"
       ]
      }
     ],
     "input": [
      ""
     ],
     "language": "python",
     "prompt_number": 3
    },
    {
     "cell_type": "code",
     "metadata": {},
     "outputs": [],
     "input": [
      ""
     ],
     "language": "python"
    }
   ]
  }
 ],
 "cells": [],
 "metadata": {
  "name": "",
  "signature": "sha256:3767816bd902e4784145dae196c1c6b46fce07abde2cb004f09582013a48c558"
 },
 "nbformat": 3,
 "nbformat_minor": 0
}