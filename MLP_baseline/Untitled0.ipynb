{
 "worksheets": [
  {
   "cells": [
    {
     "cell_type": "code",
     "metadata": {},
     "outputs": [
      {
       "output_type": "stream",
       "stream": "stdout",
       "text": [
        "[1, 2, 4, 5, 6, 9, 12, 15, 17, 20, 25, 26] ['SN001', 'SN002', 'SN003', 'SN004', 'SN005', 'SN006', 'SN007', 'SN008', 'SN009', 'SN010', 'SN011', 'SN012', 'SN016', 'SN017', 'SN018', 'SN021', 'SN023', 'SN024', 'SN025', 'SN026', 'SN027', 'SN028', 'SN029', 'SN030', 'SN031', 'SN032', 'SN013']\n"
       ]
      }
     ],
     "input": [
      "# The SVM baseline for BO4D\n",
      "import shared_defs_DISFA\n",
      "\n",
      "(all_aus, users, DISFA_dir, hog_data_dir) = shared_defs_DISFA.shared_defs()\n",
      "\n",
      "train_recs = users[0:int(len(users)/2)]\n",
      "devel_recs = users[(int(len(users)/2)):]\n",
      "\n",
      "print all_aus, users"
     ],
     "language": "python",
     "prompt_number": 15
    },
    {
     "cell_type": "code",
     "metadata": {},
     "outputs": [
      {
       "output_type": "stream",
       "stream": "stdout",
       "text": [
        "(130814L, 12L) 130814\n"
       ]
      }
     ],
     "input": [
      "import data_preparation\n",
      "reload(data_preparation)\n",
      "au_dirs = [DISFA_dir + '/ActionUnit_Labels/' + user + '/' + user for user in users]\n",
      "\n",
      "labels, vid_ids = data_preparation.extract_DISFA_labels(au_dirs, all_aus)\n",
      "print labels.shape, len(vid_ids)"
     ],
     "language": "python",
     "prompt_number": 12
    },
    {
     "cell_type": "code",
     "metadata": {},
     "outputs": [],
     "input": [
      "from pylab import *\n",
      "plot(labels)\n",
      "show()"
     ],
     "language": "python",
     "prompt_number": 13
    },
    {
     "cell_type": "code",
     "metadata": {},
     "outputs": [],
     "input": [
      "import data_preparation\n",
      "reload(data_preparation)\n",
      "import shared_defs_DISFA\n",
      "reload(shared_defs_DISFA)\n",
      "(all_aus, users, DISFA_dir, hog_data_dir) = shared_defs_DISFA.shared_defs()\n",
      "\n",
      "au = all_aus\n",
      "# First extracting the labels\n",
      "au_train_dirs = [DISFA_dir + '/ActionUnit_Labels/' + user + '/' + user for user in train_recs]\n",
      "[labels_train, valid_ids_train] = data_preparation.extract_DISFA_labels(au_train_dirs, au)\n",
      "\n",
      "# Reading in the HOG data (of only relevant frames)\n",
      "[train_appearance_data, valid_ids_train_hog, vid_ids_train_string] =\\\n",
      "    data_preparation.Read_HOG_files_DISFA(train_recs, hog_data_dir)"
     ],
     "language": "python",
     "prompt_number": 22
    },
    {
     "cell_type": "code",
     "metadata": {},
     "outputs": [],
     "input": [
      ""
     ],
     "language": "python",
     "prompt_number": 29
    }
   ]
  }
 ],
 "cells": [],
 "metadata": {
  "name": "",
  "signature": "sha256:3767816bd902e4784145dae196c1c6b46fce07abde2cb004f09582013a48c558"
 },
 "nbformat": 3,
 "nbformat_minor": 0
}