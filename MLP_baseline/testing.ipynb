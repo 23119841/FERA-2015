{
 "worksheets": [
  {
   "cells": [
    {
     "cell_type": "code",
     "metadata": {},
     "outputs": [
      {
       "output_type": "stream",
       "stream": "[2, 12, 17, 25, 28, 45] ['rec1', 'rec12', 'rec14', 'rec19', 'rec23', 'rec25', 'rec37', 'rec39', 'rec43', 'rec45', 'rec48', 'rec50', 'rec52', 'rec54', 'rec56', 'rec60'] ['rec9', 'rec13', 'rec15', 'rec20', 'rec24', 'rec26', 'rec38', 'rec42', 'rec44', 'rec46', 'rec49', 'rec51', 'rec53', 'rec55', 'rec58']\n",
       "text": [
        "[2, 12, 17, 25, 28, 45] ['rec1', 'rec12', 'rec14', 'rec19', 'rec23', 'rec25', 'rec37', 'rec39', 'rec43', 'rec45', 'rec48', 'rec50', 'rec52', 'rec54', 'rec56', 'rec60'] ['rec9', 'rec13', 'rec15', 'rec20', 'rec24', 'rec26', 'rec38', 'rec42', 'rec44', 'rec46', 'rec49', 'rec51', 'rec53', 'rec55', 'rec58']\n"
       ]
      }
     ],
     "input": [
      "# The SVM baseline for BO4D\n",
      "import shared_defs_SEMAINE\n",
      "\n",
      "import logistic_regression\n",
      "\n",
      "(all_aus, train_recs, devel_recs, SEMAINE_dir, hog_data_dir) = shared_defs_SEMAINE.shared_defs()\n",
      "\n",
      "pca_loc = \"../pca_generation/generic_face_rigid\"\n",
      "print all_aus, train_recs, devel_recs"
     ],
     "language": "python",
     "prompt_number": 26
    },
    {
     "cell_type": "code",
     "metadata": {},
     "outputs": [
      {
       "output_type": "stream",
       "stream": "[1, 2, 4, 6, 7, 10, 12, 14, 15, 17, 23] ['F001', 'F003', 'F005', 'F007', 'F009', 'F011', 'F013', 'F015', 'F017', 'F019', 'F021', 'F023', 'M001', 'M003', 'M005', 'M007', 'M009', 'M011', 'M013', 'M015', 'M017'] ['F002', 'F004', 'F006', 'F008', 'F010', 'F012', 'F014', 'F016', 'F018', 'F020', 'F022', 'M002', 'M004', 'M006', 'M008', 'M010', 'M012', 'M014', 'M016', 'M018']\n",
       "text": [
        "[1, 2, 4, 6, 7, 10, 12, 14, 15, 17, 23] ['F001', 'F003', 'F005', 'F007', 'F009', 'F011', 'F013', 'F015', 'F017', 'F019', 'F021', 'F023', 'M001', 'M003', 'M005', 'M007', 'M009', 'M011', 'M013', 'M015', 'M017'] ['F002', 'F004', 'F006', 'F008', 'F010', 'F012', 'F014', 'F016', 'F018', 'F020', 'F022', 'M002', 'M004', 'M006', 'M008', 'M010', 'M012', 'M014', 'M016', 'M018']\n"
       ]
      }
     ],
     "input": [
      "import shared_defs_BP4D\n",
      "\n",
      "import logistic_regression\n",
      "\n",
      "(all_aus, train_recs, devel_recs, BP4D_dir, hog_data_dir) = shared_defs_BP4D.shared_defs()\n",
      "\n",
      "pca_loc = \"../pca_generation/generic_face_rigid\"\n",
      "print all_aus, train_recs, devel_recs"
     ],
     "language": "python",
     "prompt_number": 19
    },
    {
     "cell_type": "code",
     "metadata": {},
     "outputs": [
      {
       "output_type": "stream",
       "stream": "168 168 (168L, 2L)\n",
       "text": [
        "168 168 (168L, 2L)\n"
       ]
      }
     ],
     "input": [
      "import data_preparation\n",
      "reload(data_preparation)\n",
      "labels, valid_ids, vid_ids = data_preparation.extract_BP4D_labels(BP4D_dir, train_recs, all_aus)\n",
      "print len(labels), len(valid_ids), vid_ids.shape"
     ],
     "language": "python",
     "prompt_number": 24
    },
    {
     "cell_type": "code",
     "metadata": {},
     "outputs": [
      {
       "output_type": "stream",
       "stream": "16 16 [[  1.50100000e+03   4.50000000e+03]\n [  5.20100000e+03   8.20000000e+03]\n [  3.15100000e+03   6.15000000e+03]\n [  4.50100000e+03   7.50000000e+03]\n [  5.75100000e+03   8.75000000e+03]\n [  1.00000000e+00   3.00000000e+03]\n [  7.01000000e+02   3.70000000e+03]\n [  2.50100000e+03   5.50000000e+03]\n [  1.60100000e+03   4.60000000e+03]\n [  1.00000000e+00   3.00000000e+03]\n [  1.00000000e+00   3.00000000e+03]\n [  1.00000000e+00   2.96000000e+03]\n [  1.50100000e+03   4.50000000e+03]\n [  5.01000000e+02   3.50000000e+03]\n [  6.00100000e+03   8.91200000e+03]\n [  1.20010000e+04   1.50000000e+04]]\n",
       "text": [
        "16 16 [[  1.50100000e+03   4.50000000e+03]\n [  5.20100000e+03   8.20000000e+03]\n [  3.15100000e+03   6.15000000e+03]\n [  4.50100000e+03   7.50000000e+03]\n [  5.75100000e+03   8.75000000e+03]\n [  1.00000000e+00   3.00000000e+03]\n [  7.01000000e+02   3.70000000e+03]\n [  2.50100000e+03   5.50000000e+03]\n [  1.60100000e+03   4.60000000e+03]\n [  1.00000000e+00   3.00000000e+03]\n [  1.00000000e+00   3.00000000e+03]\n [  1.00000000e+00   2.96000000e+03]\n [  1.50100000e+03   4.50000000e+03]\n [  5.01000000e+02   3.50000000e+03]\n [  6.00100000e+03   8.91200000e+03]\n [  1.20010000e+04   1.50000000e+04]]\n"
       ]
      }
     ],
     "input": [
      "import data_preparation\n",
      "reload(data_preparation)\n",
      "SEMAINE_label_dir = '../SEMAINE_baseline/training_labels/'\n",
      "labels, valid_ids, vid_ids = data_preparation.extract_SEMAINE_labels(SEMAINE_label_dir, train_recs, all_aus)\n",
      "\n",
      "print len(labels), len(valid_ids), vid_ids"
     ],
     "language": "python",
     "prompt_number": 31
    },
    {
     "cell_type": "code",
     "metadata": {},
     "outputs": [],
     "input": [
      "import data_preparation\n",
      "reload(data_preparation)\n",
      "\n",
      "hog_data, valid_inds, vid_id = data_preparation.Read_HOG_files_SEMAINE(train_recs, vid_ids, hog_data_dir + '/train/')"
     ],
     "language": "python",
     "prompt_number": 48
    },
    {
     "cell_type": "code",
     "metadata": {},
     "outputs": [
      {
       "output_type": "stream",
       "stream": "0.118675\n",
       "text": [
        "0.118675\n"
       ]
      }
     ],
     "input": [
      ""
     ],
     "language": "python",
     "prompt_number": 56
    }
   ]
  }
 ],
 "cells": [],
 "metadata": {
  "name": "",
  "signature": "sha256:390be99d1ca1bc6cf524f2d0aac29aef33981563bfcee748a768e0a032646c7b"
 },
 "nbformat": 3,
 "nbformat_minor": 0
}